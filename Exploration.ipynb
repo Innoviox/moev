{
 "cells": [
  {
   "cell_type": "code",
   "execution_count": 1,
   "id": "74d076e8",
   "metadata": {},
   "outputs": [],
   "source": [
    "import requests"
   ]
  },
  {
   "cell_type": "code",
   "execution_count": 2,
   "id": "c5d4f62e",
   "metadata": {},
   "outputs": [],
   "source": [
    "API_KEY = open('apikey').read()"
   ]
  },
  {
   "cell_type": "code",
   "execution_count": null,
   "id": "0e14d015",
   "metadata": {},
   "outputs": [],
   "source": [
    "# todo transit_routing_preference\n",
    "def directions(URL=\"https://maps.googleapis.com/maps/api/directions/json?mode=transit&origin={origin}&destination={destination}\")"
   ]
  }
 ],
 "metadata": {
  "kernelspec": {
   "display_name": "Python 3 (ipykernel)",
   "language": "python",
   "name": "python3"
  },
  "language_info": {
   "codemirror_mode": {
    "name": "ipython",
    "version": 3
   },
   "file_extension": ".py",
   "mimetype": "text/x-python",
   "name": "python",
   "nbconvert_exporter": "python",
   "pygments_lexer": "ipython3",
   "version": "3.10.2"
  }
 },
 "nbformat": 4,
 "nbformat_minor": 5
}
