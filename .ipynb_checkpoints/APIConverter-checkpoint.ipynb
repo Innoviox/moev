{
 "cells": [
  {
   "cell_type": "code",
   "execution_count": 18,
   "id": "1c6c0ef1-6eba-4a1b-8efd-bc6c2ab63768",
   "metadata": {},
   "outputs": [],
   "source": [
    "import bs4\n",
    "import requests\n",
    "import re\n",
    "import tqdm"
   ]
  },
  {
   "cell_type": "code",
   "execution_count": 19,
   "id": "1377eb8c-a702-4db9-b684-e2909bb3cdbb",
   "metadata": {},
   "outputs": [],
   "source": [
    "def get_string(c):\n",
    "    return ''.join(i.string if i.string is not None else \"\" for i in c.children)\n",
    "\n",
    "def convert(section):\n",
    "    children = list(section.children)\n",
    "    if len(children) < 2:\n",
    "        return\n",
    "\n",
    "    # print(section.attrs)\n",
    "    # title = children[1].string\n",
    "    # if title is None or len(title.split()) > 1:\n",
    "    #     return\n",
    "\n",
    "    title = section.attrs['id'].split('/')[-1]\n",
    "    data = False\n",
    "    if title.startswith('body.'):\n",
    "        title = title[5:]\n",
    "    if title == 'request_body':\n",
    "        title = 'ComputeRoutesRequest' # todo\n",
    "    if 'Response' in title:\n",
    "        data = True\n",
    "\n",
    "    # print(title)\n",
    "\n",
    "    code_type = \"\"\n",
    "    enum_vals = {}\n",
    "    fields = {}\n",
    "\n",
    "    for i in children[2:]:\n",
    "        if i.name != 'section':\n",
    "            continue\n",
    "\n",
    "        if 'description' in i.attrs['id']:\n",
    "            p = list(i.children)[1]\n",
    "            description = get_string(p)\n",
    "        elif 'ENUM_VALUES' in i.attrs['id']:\n",
    "            code_type = \"enum\"\n",
    "            for row in i.find(\"tbody\").find_all(\"tr\"):\n",
    "                cs = list(row.children)\n",
    "                td1, td2 = cs[1], cs[3]\n",
    "                enum_vals[get_string(td1)] = get_string(td2)\n",
    "        elif 'FIELDS' in i.attrs['id']:\n",
    "            code_type = \"struct\"\n",
    "            for row in i.find('tbody').find_all('tr'):\n",
    "                cs = list(row.children)\n",
    "                try:\n",
    "                    td1, td2 = cs[1], cs[3]\n",
    "                    cs2 = list(td2.children)\n",
    "                    cs3 = list(cs2[1].children)\n",
    "                    fields[get_string(td1)] = (get_string(cs3[0]), get_string(cs2[3]))\n",
    "                except:\n",
    "                    # title += \"\\n\" + get_string(cs[1])\n",
    "                    pass # todo comment?\n",
    "\n",
    "    return (title, code_type, enum_vals, fields, data)\n",
    "\n",
    "def get_things(sections):\n",
    "    things = {}\n",
    "\n",
    "    for child in sections:\n",
    "        if child.name == 'section' and hasattr(child, 'attrs') and 'id' in child.attrs:\n",
    "            if vals := convert(child):\n",
    "                t, ct, ev, f, d = vals\n",
    "                things[t] = (ct, ev, f, d)\n",
    "    return things"
   ]
  },
  {
   "cell_type": "code",
   "execution_count": 20,
   "id": "3dfc6c71-7f66-4422-b984-28de4e385930",
   "metadata": {},
   "outputs": [],
   "source": [
    "def convert_2(section):\n",
    "    h3 = section.find(\"h3\")\n",
    "    if h3 is None:\n",
    "        return\n",
    "\n",
    "    title = h3.attrs['id']\n",
    "\n",
    "    data = 'Response' in title\n",
    "\n",
    "    code_type = \"\"\n",
    "    enum_vals = {}\n",
    "    fields = {}\n",
    "\n",
    "    table = section.find(\"tbody\")\n",
    "    if table is None:\n",
    "        return # todo enums\n",
    "    code_type = \"struct\"\n",
    "    for row in table.find_all(\"tr\"):\n",
    "        name, optional, type, comment = list(row.find_all(\"td\"))\n",
    "        name, type, comment = get_string(name).strip(), get_string(type).strip(), get_string(comment).strip()\n",
    "        if type.startswith(\"Array\"):\n",
    "            type = type[6:-1]\n",
    "            name += '[]'\n",
    "        fields[name] = (type, comment.replace(\"\\n\", \" \"))\n",
    "\n",
    "    return (title, code_type, enum_vals, fields, data)\n",
    "\n",
    "def get_things_2(sections):\n",
    "    things = {}\n",
    "\n",
    "    for child in sections:\n",
    "        if vals := convert_2(child):\n",
    "            t, ct, ev, f, d = vals\n",
    "            things[t] = (ct, ev, f, d)\n",
    "    return things"
   ]
  },
  {
   "cell_type": "code",
   "execution_count": 21,
   "id": "e255952f-1cda-4b40-971d-69138594b870",
   "metadata": {},
   "outputs": [],
   "source": [
    "def convert_type(name, type):\n",
    "    if type == 'object' or re.match(r'object\\ \\(.*\\ .*\\)', type):\n",
    "        t = '[String: Any]'\n",
    "    elif type.startswith('object') or type.startswith('enum'):\n",
    "        t = type.split('(')[1][:-1]\n",
    "    elif type.startswith('string'):\n",
    "        t = 'String'\n",
    "    elif type == 'integer':\n",
    "        t = 'Int'\n",
    "    elif type == 'number':\n",
    "        t = 'Double'\n",
    "    elif type == 'boolean':\n",
    "        t = 'Bool'\n",
    "    else:\n",
    "        print(\"unknown type\", type)\n",
    "        t = type\n",
    "    n = name\n",
    "    if name.endswith(\"[]\"):\n",
    "        n = n[:-2]\n",
    "        t = '[' + t + ']'\n",
    "    return n, t\n",
    "        \n",
    "def get_file(things):\n",
    "    ss = \"\"\n",
    "    for k, v in things.items():\n",
    "        ct, ev, f, d = v\n",
    "        s = \"\"\n",
    "        if ct == \"enum\":\n",
    "            s += f\"enum {k}: String, Codable {{\\n\"\n",
    "            for name, comment in ev.items():\n",
    "                s += f\"\\tcase {name} // {comment}\\n\"\n",
    "            s += \"}\"\n",
    "        elif ct == \"struct\":\n",
    "            s += f\"struct {k}: Codable, Identifiable {{\\n\"\n",
    "            if 'id' not in f:\n",
    "                s += '\\tvar id = UUID()\\n\"\n",
    "            manual = False\n",
    "            for name, (type, comment) in f.items():\n",
    "                n, c = convert_type(name, type)\n",
    "                if '[String: Any]' in c:\n",
    "                    manual = True\n",
    "                s += f\"\\tvar {n}: {c}? = nil // {comment}\\n\"\n",
    "            if manual:\n",
    "                s += \"\\n\\tenum CodingKeys: String, CodingKey {\\n\"\n",
    "                for name in f.keys():\n",
    "                    s += f\"\\t\\tcase {name.strip(\"[]\")}\\n\"\n",
    "                s += \"\\t}\\n\\n\"\n",
    "                s += \"\\tinit(from decoder: Decoder) throws {\\n\\t\\tlet container = try decoder.container(keyedBy: CodingKeys.self)\\n\\n\"\n",
    "                for name, (type, comment) in f.items():\n",
    "                    n, c = convert_type(name, type)\n",
    "                    s += f\"\\t\\t{n} = try container.decodeIfPresent({c}.self, forKey: .{n})\\n\"\n",
    "                s += \"\\t}\\n\\n\\tfunc encode(to encoder: Encoder) throws {\\n\\t\\tvar container = encoder.container(keyedBy: CodingKeys.self)\\n\\n\"\n",
    "                for name in f.keys():\n",
    "                    n = name.strip(\"[]\")\n",
    "                    s += f\"\\t\\ttry container.encodeIfPresent({n}, forKey: .{n})\\n\"\n",
    "                s += \"\\t}\\n\"\n",
    "            s += \"}\\n\"\n",
    "            if d:\n",
    "                s += f\"\"\"\n",
    "extension {k} {{\n",
    "    static func from(jsonData data: Data) -> {k}? {{\n",
    "        return try? JSONDecoder().decode({k}.self, from: data)\n",
    "    }}\n",
    "}}\n",
    "\n",
    "\n",
    "\"\"\"\n",
    "        if s != \"\":\n",
    "            ss += s + \"\\n\\n\"\n",
    "    return ss"
   ]
  },
  {
   "cell_type": "code",
   "execution_count": 22,
   "id": "f01dd5e0-fcc1-4153-9808-de4ab06028b0",
   "metadata": {},
   "outputs": [],
   "source": [
    "def to_swift(url):\n",
    "    soup = bs4.BeautifulSoup(requests.get(url).text)\n",
    "    sections = soup.find_all(\"section\", recursive=True)\n",
    "    things = get_things(sections)\n",
    "    return get_file(things)\n",
    "\n",
    "def to_swift_2(url):\n",
    "    soup = bs4.BeautifulSoup(requests.get(url).text)\n",
    "    sections = soup.find_all(\"div\", attrs={\"data-code-snippet\": True}, recursive=True)\n",
    "    things = get_things_2(sections)\n",
    "    return get_file(things)"
   ]
  },
  {
   "cell_type": "code",
   "execution_count": 23,
   "id": "72a3c353-b3cb-45ec-8f85-7b483953e901",
   "metadata": {},
   "outputs": [
    {
     "name": "stderr",
     "output_type": "stream",
     "text": [
      "100%|███████████████████████████████████████████| 15/15 [00:07<00:00,  2.04it/s]\n"
     ]
    },
    {
     "data": {
      "text/plain": [
       "46163"
      ]
     },
     "execution_count": 23,
     "metadata": {},
     "output_type": "execute_result"
    }
   ],
   "source": [
    "urls = [\n",
    "    \"https://developers.google.com/maps/documentation/routes/reference/rest/v2/TopLevel/computeRoutes\"\n",
    "    \"https://developers.google.com/maps/documentation/routes/reference/rest/v2/FallbackInfo\",\n",
    "    \"https://developers.google.com/maps/documentation/routes/reference/rest/v2/LatLng\",\n",
    "    \"https://developers.google.com/maps/documentation/routes/reference/rest/v2/LocalizedText\",\n",
    "    \"https://developers.google.com/maps/documentation/routes/reference/rest/v2/Location\",\n",
    "    \"https://developers.google.com/maps/documentation/routes/reference/rest/v2/Money\",\n",
    "    \"https://developers.google.com/maps/documentation/routes/reference/rest/v2/RouteModifiers\",\n",
    "    \"https://developers.google.com/maps/documentation/routes/reference/rest/v2/RouteTravelAdvisory\",\n",
    "    \"https://developers.google.com/maps/documentation/routes/reference/rest/v2/RouteTravelMode\",\n",
    "    \"https://developers.google.com/maps/documentation/routes/reference/rest/v2/RoutingPreference\",\n",
    "    \"https://developers.google.com/maps/documentation/routes/reference/rest/v2/SpeedReadingInterval\",\n",
    "    \"https://developers.google.com/maps/documentation/routes/reference/rest/v2/Status\",\n",
    "    \"https://developers.google.com/maps/documentation/routes/reference/rest/v2/TollInfo\",\n",
    "    \"https://developers.google.com/maps/documentation/routes/reference/rest/v2/TrafficModel\",\n",
    "    \"https://developers.google.com/maps/documentation/routes/reference/rest/v2/TransitPreferences\",\n",
    "    \"https://developers.google.com/maps/documentation/routes/reference/rest/v2/Waypoint\"\n",
    "]\n",
    "\n",
    "sss = \"import Foundation\\n\"\n",
    "for u in tqdm.tqdm(urls):\n",
    "    sss += to_swift(u) + \"\\n\"\n",
    "\n",
    "open(\"/Users/simonchervenak/Documents/GitHub/moev/moev/moev/API/Models/ComputeRoutes.swift\", \"w\").write(sss)"
   ]
  },
  {
   "cell_type": "code",
   "execution_count": 24,
   "id": "07e89673-8617-4d41-92d3-8c907903bc88",
   "metadata": {},
   "outputs": [
    {
     "name": "stdout",
     "output_type": "stream",
     "text": [
      "unknown type PlaceAutocompletePrediction\n",
      "unknown type PlacesAutocompleteStatus\n",
      "unknown type PlaceAutocompleteMatchedSubstring\n",
      "unknown type PlaceAutocompleteStructuredFormat\n",
      "unknown type PlaceAutocompleteTerm\n",
      "unknown type PlaceAutocompleteMatchedSubstring\n",
      "unknown type PlaceAutocompleteMatchedSubstring\n"
     ]
    },
    {
     "data": {
      "text/plain": [
       "2007"
      ]
     },
     "execution_count": 24,
     "metadata": {},
     "output_type": "execute_result"
    }
   ],
   "source": [
    "s = \"import Foundation\\n\"\n",
    "s += to_swift_2(\"https://developers.google.com/maps/documentation/places/web-service/autocomplete\")\n",
    "open(\"/Users/simonchervenak/Documents/GitHub/moev/moev/moev/API/Models/PlaceAutocomplete.swift\", \"w\").write(s)"
   ]
  },
  {
   "cell_type": "code",
   "execution_count": 25,
   "id": "75977d1e-5d59-4ecf-ac24-b05962191fba",
   "metadata": {},
   "outputs": [
    {
     "name": "stdout",
     "output_type": "stream",
     "text": [
      "unknown type Place\n",
      "unknown type PlacesDetailsStatus\n",
      "unknown type AddressComponent\n",
      "unknown type PlaceOpeningHours\n",
      "unknown type PlaceEditorialSummary\n",
      "unknown type Geometry\n",
      "unknown type PlaceOpeningHours\n",
      "unknown type PlacePhoto\n",
      "unknown type PlusCode\n",
      "unknown type PlaceReview\n",
      "unknown type PlaceOpeningHours\n",
      "unknown type LatLngLiteral\n",
      "unknown type Bounds\n",
      "unknown type LatLngLiteral\n",
      "unknown type LatLngLiteral\n",
      "unknown type PlaceOpeningHoursPeriod\n",
      "unknown type PlaceSpecialDay\n",
      "unknown type PlaceOpeningHoursPeriodDetail\n",
      "unknown type PlaceOpeningHoursPeriodDetail\n"
     ]
    },
    {
     "data": {
      "text/plain": [
       "9416"
      ]
     },
     "execution_count": 25,
     "metadata": {},
     "output_type": "execute_result"
    }
   ],
   "source": [
    "s = \"import Foundation\\n\"\n",
    "s += to_swift_2(\"https://developers.google.com/maps/documentation/places/web-service/details\")\n",
    "open(\"/Users/simonchervenak/Documents/GitHub/moev/moev/moev/API/Models/PlaceDetails.swift\", \"w\").write(s)"
   ]
  }
 ],
 "metadata": {
  "kernelspec": {
   "display_name": "Python 3 (ipykernel)",
   "language": "python",
   "name": "python3"
  },
  "language_info": {
   "codemirror_mode": {
    "name": "ipython",
    "version": 3
   },
   "file_extension": ".py",
   "mimetype": "text/x-python",
   "name": "python",
   "nbconvert_exporter": "python",
   "pygments_lexer": "ipython3",
   "version": "3.12.0"
  }
 },
 "nbformat": 4,
 "nbformat_minor": 5
}
